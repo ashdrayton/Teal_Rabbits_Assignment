{
 "cells": [
  {
   "cell_type": "markdown",
   "metadata": {},
   "source": [
    "# Spread of Top 500 restaurants by city\n",
    "\n",
    "## Objective\n",
    "This program was written to create a bar plot of the Top 500 restaurants in Australia, to see how many of these restaurants are in each city.\n",
    "\n",
    "### Comments:\n",
    "This program reads in a CSV of cleansed data of the top 497 restaurants from the 5 largest cities in Australia. Three restaurants were removed from original dataset containing the top 500 restaurants in Australia due to these record containing incomplete data."
   ]
  },
  {
   "cell_type": "code",
   "execution_count": 1,
   "metadata": {},
   "outputs": [],
   "source": [
    "#Import required modules and styles\n",
    "import pandas as pd\n",
    "import matplotlib.pyplot as plt\n",
    "import numpy as np\n",
    "import seaborn as sns\n",
    "sns.set_style(\"darkgrid\")"
   ]
  },
  {
   "cell_type": "code",
   "execution_count": 2,
   "metadata": {},
   "outputs": [
    {
     "data": {
      "text/html": [
       "<div>\n",
       "<style scoped>\n",
       "    .dataframe tbody tr th:only-of-type {\n",
       "        vertical-align: middle;\n",
       "    }\n",
       "\n",
       "    .dataframe tbody tr th {\n",
       "        vertical-align: top;\n",
       "    }\n",
       "\n",
       "    .dataframe thead th {\n",
       "        text-align: right;\n",
       "    }\n",
       "</style>\n",
       "<table border=\"1\" class=\"dataframe\">\n",
       "  <thead>\n",
       "    <tr style=\"text-align: right;\">\n",
       "      <th></th>\n",
       "      <th>Restaurant_id</th>\n",
       "      <th>Name</th>\n",
       "      <th>Locality</th>\n",
       "      <th>Address</th>\n",
       "      <th>City</th>\n",
       "      <th>Latitude</th>\n",
       "      <th>Longitude</th>\n",
       "      <th>Price Range</th>\n",
       "      <th>Average Cost for two</th>\n",
       "      <th>User Rating</th>\n",
       "      <th>Rating Text</th>\n",
       "      <th>Votes</th>\n",
       "      <th>all_reviews_count</th>\n",
       "      <th>Cuisines</th>\n",
       "    </tr>\n",
       "  </thead>\n",
       "  <tbody>\n",
       "    <tr>\n",
       "      <th>0</th>\n",
       "      <td>15547004</td>\n",
       "      <td>Restaurant Hubert</td>\n",
       "      <td>CBD</td>\n",
       "      <td>15 Bligh Street, CBD, Sydney</td>\n",
       "      <td>Sydney</td>\n",
       "      <td>-33.865348</td>\n",
       "      <td>151.210624</td>\n",
       "      <td>4</td>\n",
       "      <td>150</td>\n",
       "      <td>4.9</td>\n",
       "      <td>Excellent</td>\n",
       "      <td>590</td>\n",
       "      <td>224</td>\n",
       "      <td>French, European</td>\n",
       "    </tr>\n",
       "    <tr>\n",
       "      <th>1</th>\n",
       "      <td>16558798</td>\n",
       "      <td>Quay</td>\n",
       "      <td>Circular Quay</td>\n",
       "      <td>Upper Level, Overseas Passenger Terminal 5 Hic...</td>\n",
       "      <td>Sydney</td>\n",
       "      <td>-33.858029</td>\n",
       "      <td>151.209970</td>\n",
       "      <td>4</td>\n",
       "      <td>500</td>\n",
       "      <td>4.9</td>\n",
       "      <td>Excellent</td>\n",
       "      <td>1366</td>\n",
       "      <td>454</td>\n",
       "      <td>Modern Australian</td>\n",
       "    </tr>\n",
       "    <tr>\n",
       "      <th>2</th>\n",
       "      <td>16559171</td>\n",
       "      <td>Tetsuya's</td>\n",
       "      <td>CBD</td>\n",
       "      <td>529 Kent Street, CBD, Sydney</td>\n",
       "      <td>Sydney</td>\n",
       "      <td>-33.875143</td>\n",
       "      <td>151.204932</td>\n",
       "      <td>4</td>\n",
       "      <td>440</td>\n",
       "      <td>4.9</td>\n",
       "      <td>Excellent</td>\n",
       "      <td>1234</td>\n",
       "      <td>329</td>\n",
       "      <td>Japanese</td>\n",
       "    </tr>\n",
       "  </tbody>\n",
       "</table>\n",
       "</div>"
      ],
      "text/plain": [
       "   Restaurant_id               Name       Locality  \\\n",
       "0       15547004  Restaurant Hubert            CBD   \n",
       "1       16558798               Quay  Circular Quay   \n",
       "2       16559171          Tetsuya's            CBD   \n",
       "\n",
       "                                             Address    City   Latitude  \\\n",
       "0                       15 Bligh Street, CBD, Sydney  Sydney -33.865348   \n",
       "1  Upper Level, Overseas Passenger Terminal 5 Hic...  Sydney -33.858029   \n",
       "2                       529 Kent Street, CBD, Sydney  Sydney -33.875143   \n",
       "\n",
       "    Longitude  Price Range  Average Cost for two  User Rating Rating Text  \\\n",
       "0  151.210624            4                   150          4.9   Excellent   \n",
       "1  151.209970            4                   500          4.9   Excellent   \n",
       "2  151.204932            4                   440          4.9   Excellent   \n",
       "\n",
       "   Votes  all_reviews_count           Cuisines  \n",
       "0    590                224   French, European  \n",
       "1   1366                454  Modern Australian  \n",
       "2   1234                329           Japanese  "
      ]
     },
     "execution_count": 2,
     "metadata": {},
     "output_type": "execute_result"
    }
   ],
   "source": [
    "#Read in required data and drop first column\n",
    "df = pd.read_csv(\"../Project1_exploration/output_data/Top_497.csv\")\n",
    "restaurants = df.drop('Unnamed: 0', axis=1)\n",
    "restaurants.head(3)"
   ]
  },
  {
   "cell_type": "markdown",
   "metadata": {},
   "source": [
    "### Comments:\n",
    "Group the cities and then count number of restaurants in each city"
   ]
  },
  {
   "cell_type": "code",
   "execution_count": 3,
   "metadata": {},
   "outputs": [
    {
     "data": {
      "text/html": [
       "<div>\n",
       "<style scoped>\n",
       "    .dataframe tbody tr th:only-of-type {\n",
       "        vertical-align: middle;\n",
       "    }\n",
       "\n",
       "    .dataframe tbody tr th {\n",
       "        vertical-align: top;\n",
       "    }\n",
       "\n",
       "    .dataframe thead th {\n",
       "        text-align: right;\n",
       "    }\n",
       "</style>\n",
       "<table border=\"1\" class=\"dataframe\">\n",
       "  <thead>\n",
       "    <tr style=\"text-align: right;\">\n",
       "      <th></th>\n",
       "      <th>User Rating</th>\n",
       "    </tr>\n",
       "    <tr>\n",
       "      <th>City</th>\n",
       "      <th></th>\n",
       "    </tr>\n",
       "  </thead>\n",
       "  <tbody>\n",
       "    <tr>\n",
       "      <th>Adelaide</th>\n",
       "      <td>4.39</td>\n",
       "    </tr>\n",
       "    <tr>\n",
       "      <th>Brisbane</th>\n",
       "      <td>4.51</td>\n",
       "    </tr>\n",
       "    <tr>\n",
       "      <th>Melbourne</th>\n",
       "      <td>4.67</td>\n",
       "    </tr>\n",
       "    <tr>\n",
       "      <th>Perth</th>\n",
       "      <td>4.47</td>\n",
       "    </tr>\n",
       "    <tr>\n",
       "      <th>Sydney</th>\n",
       "      <td>4.63</td>\n",
       "    </tr>\n",
       "  </tbody>\n",
       "</table>\n",
       "</div>"
      ],
      "text/plain": [
       "           User Rating\n",
       "City                  \n",
       "Adelaide          4.39\n",
       "Brisbane          4.51\n",
       "Melbourne         4.67\n",
       "Perth             4.47\n",
       "Sydney            4.63"
      ]
     },
     "execution_count": 3,
     "metadata": {},
     "output_type": "execute_result"
    }
   ],
   "source": [
    "group_city = restaurants.groupby(\"City\")\n",
    "ave_user_rating = pd.DataFrame(group_city[\"User Rating\"].mean())\n",
    "ave_user_rating = ave_user_rating.round(decimals=2)\n",
    "ave_user_rating"
   ]
  },
  {
   "cell_type": "markdown",
   "metadata": {},
   "source": [
    "### Comments:\n",
    "Create a bar graph of average user ratings across the 5 cities"
   ]
  },
  {
   "cell_type": "code",
   "execution_count": 4,
   "metadata": {},
   "outputs": [
    {
     "data": {
      "image/png": "[encoded data removed]",
      "text/plain": [
       "<Figure size 540x360 with 1 Axes>"
      ]
     },
     "metadata": {},
     "output_type": "display_data"
    }
   ],
   "source": [
    "#Define the variables\n",
    "x1 = [0,1,2,3,4]\n",
    "y1 = [4.39,4.51,4.67,4.47,4.63]\n",
    "colours = ['teal', 'maroon', 'darkorchid', 'gold', 'royalblue']\n",
    "\n",
    "plt.bar(x1, y1, edgecolor='black', color=colours)\n",
    "\n",
    "#Adjust size of graph\n",
    "fig = plt.gcf()\n",
    "fig.set_size_inches(7.5, 5)\n",
    "\n",
    "#Set font sizes\n",
    "small = 12\n",
    "medium = 16\n",
    "large = 24\n",
    "\n",
    "plt.rc('font', size=medium)     \n",
    "plt.rc('axes', titlesize=large)     \n",
    "plt.rc('xtick', labelsize=small)   \n",
    "plt.rc('ytick', labelsize=small)   \n",
    "plt.rc('figure', titlesize=large)\n",
    "\n",
    "#Add title, axis labels and gridlines\n",
    "plt.title('Average User Rating in Each City')\n",
    "plt.xlabel('Cities')\n",
    "plt.ylabel('Average User Rating')\n",
    "plt.xticks(np.arange(5), ('Adelaide', 'Brisbane', 'Melbourne', 'Perth', 'Sydney'))\n",
    "plt.xlim(-0.5,len(ave_user_rating)-0.5)\n",
    "plt.ylim(4.3,4.7)\n",
    "\n",
    "#Save plot\n",
    "plt.savefig(\"../Erica/AvUserRating500.png\")"
   ]
  },
  {
   "cell_type": "markdown",
   "metadata": {},
   "source": [
    "### Median User Rating\n",
    "Calculating the required data"
   ]
  },
  {
   "cell_type": "code",
   "execution_count": 9,
   "metadata": {},
   "outputs": [
    {
     "data": {
      "text/html": [
       "<div>\n",
       "<style scoped>\n",
       "    .dataframe tbody tr th:only-of-type {\n",
       "        vertical-align: middle;\n",
       "    }\n",
       "\n",
       "    .dataframe tbody tr th {\n",
       "        vertical-align: top;\n",
       "    }\n",
       "\n",
       "    .dataframe thead th {\n",
       "        text-align: right;\n",
       "    }\n",
       "</style>\n",
       "<table border=\"1\" class=\"dataframe\">\n",
       "  <thead>\n",
       "    <tr style=\"text-align: right;\">\n",
       "      <th></th>\n",
       "      <th>User Rating</th>\n",
       "    </tr>\n",
       "    <tr>\n",
       "      <th>City</th>\n",
       "      <th></th>\n",
       "    </tr>\n",
       "  </thead>\n",
       "  <tbody>\n",
       "    <tr>\n",
       "      <th>Adelaide</th>\n",
       "      <td>4.35</td>\n",
       "    </tr>\n",
       "    <tr>\n",
       "      <th>Brisbane</th>\n",
       "      <td>4.50</td>\n",
       "    </tr>\n",
       "    <tr>\n",
       "      <th>Melbourne</th>\n",
       "      <td>4.60</td>\n",
       "    </tr>\n",
       "    <tr>\n",
       "      <th>Perth</th>\n",
       "      <td>4.40</td>\n",
       "    </tr>\n",
       "    <tr>\n",
       "      <th>Sydney</th>\n",
       "      <td>4.60</td>\n",
       "    </tr>\n",
       "  </tbody>\n",
       "</table>\n",
       "</div>"
      ],
      "text/plain": [
       "           User Rating\n",
       "City                  \n",
       "Adelaide          4.35\n",
       "Brisbane          4.50\n",
       "Melbourne         4.60\n",
       "Perth             4.40\n",
       "Sydney            4.60"
      ]
     },
     "execution_count": 9,
     "metadata": {},
     "output_type": "execute_result"
    }
   ],
   "source": [
    "#Calculate the median user rating\n",
    "group_city = restaurants.groupby(\"City\")\n",
    "median_user_rating = pd.DataFrame(group_city[\"User Rating\"].median())\n",
    "median_user_rating = median_user_rating.round(decimals=2)\n",
    "median_user_rating"
   ]
  },
  {
   "cell_type": "markdown",
   "metadata": {},
   "source": [
    "Creating the bar graph of median data"
   ]
  },
  {
   "cell_type": "code",
   "execution_count": 7,
   "metadata": {},
   "outputs": [
    {
     "data": {
      "image/png": "[encoded data removed]",
      "text/plain": [
       "<Figure size 540x360 with 1 Axes>"
      ]
     },
     "metadata": {},
     "output_type": "display_data"
    }
   ],
   "source": [
    "#Define the variables\n",
    "x1 = [0,1,2,3,4]\n",
    "y1 = [4.35,4.50,4.60,4.40,4.60]\n",
    "colours = ['teal', 'maroon', 'darkorchid', 'gold', 'royalblue']\n",
    "\n",
    "plt.bar(x1, y1, edgecolor='black', color=colours)\n",
    "\n",
    "#Adjust size of graph\n",
    "fig = plt.gcf()\n",
    "fig.set_size_inches(7.5, 5)\n",
    "\n",
    "#Set font sizes\n",
    "small = 12\n",
    "medium = 16\n",
    "large = 24\n",
    "\n",
    "plt.rc('font', size=medium)     \n",
    "plt.rc('axes', titlesize=large)     \n",
    "plt.rc('xtick', labelsize=small)   \n",
    "plt.rc('ytick', labelsize=small)   \n",
    "plt.rc('figure', titlesize=large)\n",
    "\n",
    "#Add title, axis labels and gridlines\n",
    "plt.title('Median User Rating in Each City')\n",
    "plt.xlabel('Cities')\n",
    "plt.ylabel('Median User Rating')\n",
    "plt.xticks(np.arange(5), ('Adelaide', 'Brisbane', 'Melbourne', 'Perth', 'Sydney'))\n",
    "plt.xlim(-0.5,len(median_user_rating)-0.5)\n",
    "plt.ylim(4.3,4.7)\n",
    "\n",
    "#Save plot\n",
    "plt.savefig(\"../Erica/MedianUserRating500.png\")"
   ]
  },
  {
   "cell_type": "markdown",
   "metadata": {},
   "source": [
    "### Distribution of User Ratings per City\n",
    "\n",
    "Calculating the required data"
   ]
  },
  {
   "cell_type": "code",
   "execution_count": 10,
   "metadata": {},
   "outputs": [
    {
     "data": {
      "text/plain": [
       "City       User Rating\n",
       "Adelaide   4.3            33\n",
       "           4.4            20\n",
       "           4.2            16\n",
       "           4.5            13\n",
       "           4.6             7\n",
       "           4.7             5\n",
       "           4.8             2\n",
       "           4.9             2\n",
       "Brisbane   4.4            36\n",
       "           4.5            35\n",
       "           4.6            17\n",
       "           4.7             8\n",
       "           4.8             2\n",
       "           4.9             2\n",
       "Melbourne  4.6            56\n",
       "           4.7            27\n",
       "           4.8            10\n",
       "           4.9             7\n",
       "Perth      4.4            37\n",
       "           4.3            20\n",
       "           4.5            20\n",
       "           4.6            10\n",
       "           4.7             6\n",
       "           4.8             3\n",
       "           4.9             3\n",
       "Sydney     4.6            42\n",
       "           4.5            27\n",
       "           4.7            16\n",
       "           4.8             8\n",
       "           4.9             7\n",
       "Name: User Rating, dtype: int64"
      ]
     },
     "execution_count": 10,
     "metadata": {},
     "output_type": "execute_result"
    }
   ],
   "source": [
    "RatingsperCity=restaurants.groupby(['City'])['User Rating'].value_counts()\n",
    "RatingsperCity"
   ]
  },
  {
   "cell_type": "markdown",
   "metadata": {},
   "source": [
    "Creating a bar graph of distribution of user ratings per city"
   ]
  },
  {
   "cell_type": "code",
   "execution_count": 11,
   "metadata": {},
   "outputs": [
    {
     "data": {
      "text/html": [
       "<div>\n",
       "<style scoped>\n",
       "    .dataframe tbody tr th:only-of-type {\n",
       "        vertical-align: middle;\n",
       "    }\n",
       "\n",
       "    .dataframe tbody tr th {\n",
       "        vertical-align: top;\n",
       "    }\n",
       "\n",
       "    .dataframe thead th {\n",
       "        text-align: right;\n",
       "    }\n",
       "</style>\n",
       "<table border=\"1\" class=\"dataframe\">\n",
       "  <thead>\n",
       "    <tr style=\"text-align: right;\">\n",
       "      <th>User Rating</th>\n",
       "      <th>4.2</th>\n",
       "      <th>4.3</th>\n",
       "      <th>4.4</th>\n",
       "      <th>4.5</th>\n",
       "      <th>4.6</th>\n",
       "      <th>4.7</th>\n",
       "      <th>4.8</th>\n",
       "      <th>4.9</th>\n",
       "    </tr>\n",
       "    <tr>\n",
       "      <th>City</th>\n",
       "      <th></th>\n",
       "      <th></th>\n",
       "      <th></th>\n",
       "      <th></th>\n",
       "      <th></th>\n",
       "      <th></th>\n",
       "      <th></th>\n",
       "      <th></th>\n",
       "    </tr>\n",
       "  </thead>\n",
       "  <tbody>\n",
       "    <tr>\n",
       "      <th>Adelaide</th>\n",
       "      <td>16.0</td>\n",
       "      <td>33.0</td>\n",
       "      <td>20.0</td>\n",
       "      <td>13.0</td>\n",
       "      <td>7.0</td>\n",
       "      <td>5.0</td>\n",
       "      <td>2.0</td>\n",
       "      <td>2.0</td>\n",
       "    </tr>\n",
       "    <tr>\n",
       "      <th>Brisbane</th>\n",
       "      <td>0.0</td>\n",
       "      <td>0.0</td>\n",
       "      <td>36.0</td>\n",
       "      <td>35.0</td>\n",
       "      <td>17.0</td>\n",
       "      <td>8.0</td>\n",
       "      <td>2.0</td>\n",
       "      <td>2.0</td>\n",
       "    </tr>\n",
       "    <tr>\n",
       "      <th>Melbourne</th>\n",
       "      <td>0.0</td>\n",
       "      <td>0.0</td>\n",
       "      <td>0.0</td>\n",
       "      <td>0.0</td>\n",
       "      <td>56.0</td>\n",
       "      <td>27.0</td>\n",
       "      <td>10.0</td>\n",
       "      <td>7.0</td>\n",
       "    </tr>\n",
       "    <tr>\n",
       "      <th>Perth</th>\n",
       "      <td>0.0</td>\n",
       "      <td>20.0</td>\n",
       "      <td>37.0</td>\n",
       "      <td>20.0</td>\n",
       "      <td>10.0</td>\n",
       "      <td>6.0</td>\n",
       "      <td>3.0</td>\n",
       "      <td>3.0</td>\n",
       "    </tr>\n",
       "    <tr>\n",
       "      <th>Sydney</th>\n",
       "      <td>0.0</td>\n",
       "      <td>0.0</td>\n",
       "      <td>0.0</td>\n",
       "      <td>27.0</td>\n",
       "      <td>42.0</td>\n",
       "      <td>16.0</td>\n",
       "      <td>8.0</td>\n",
       "      <td>7.0</td>\n",
       "    </tr>\n",
       "  </tbody>\n",
       "</table>\n",
       "</div>"
      ],
      "text/plain": [
       "User Rating   4.2   4.3   4.4   4.5   4.6   4.7   4.8  4.9\n",
       "City                                                      \n",
       "Adelaide     16.0  33.0  20.0  13.0   7.0   5.0   2.0  2.0\n",
       "Brisbane      0.0   0.0  36.0  35.0  17.0   8.0   2.0  2.0\n",
       "Melbourne     0.0   0.0   0.0   0.0  56.0  27.0  10.0  7.0\n",
       "Perth         0.0  20.0  37.0  20.0  10.0   6.0   3.0  3.0\n",
       "Sydney        0.0   0.0   0.0  27.0  42.0  16.0   8.0  7.0"
      ]
     },
     "execution_count": 11,
     "metadata": {},
     "output_type": "execute_result"
    }
   ],
   "source": [
    "StackedRatings = RatingsperCity.unstack('User Rating').fillna(0)\n",
    "StackedRatings"
   ]
  },
  {
   "cell_type": "code",
   "execution_count": 30,
   "metadata": {},
   "outputs": [],
   "source": [
    "#Define the variables\n",
    "R42 = [16.0,0,0,0,0]\n",
    "R43 = [33.0,0,0,20.0,0]\n",
    "R44 = [20.0,36.0,0,37.0,0]\n",
    "R45 = [13.0,35.0,0,20.0,27.0]\n",
    "R46 = [7.0,17.0,56.0,10.0,42.0]\n",
    "R47 = [5.0,8.0,27.0,6.0,16.0]\n",
    "R48 = [2.0,2.0,10.0,3.0,8.0]\n",
    "R49 = [2.0,2.0,7.0,3.0,7.0]\n",
    "\n",
    "colours = ['slategray', 'lightslategray', 'lightsteelblue', 'thistle', 'violet', 'orchid', 'mediumorchid', 'darkorchid', 'indigo']"
   ]
  },
  {
   "cell_type": "code",
   "execution_count": 36,
   "metadata": {},
   "outputs": [
    {
     "data": {
      "image/png": "[encoded data removed]",
      "text/plain": [
       "<Figure size 864x576 with 1 Axes>"
      ]
     },
     "metadata": {},
     "output_type": "display_data"
    }
   ],
   "source": [
    "StackedRatings.plot(kind='bar', stacked=True, color=colours, legend=False, rot=0).legend(bbox_to_anchor=(0.8, 1))\n",
    "\n",
    "#Adjust size of graph\n",
    "fig = plt.gcf()\n",
    "fig.set_size_inches(12, 8)\n",
    "\n",
    "# Set textual properties\n",
    "plt.title(\"Distribution of User Ratings per City\")\n",
    "plt.ylabel(\"Number of Restaurants\")\n",
    "plt.xlim(-0.5,len(StackedRatings)+1)\n",
    "plt.ylim(0,105)\n",
    "\n",
    "#Save plot\n",
    "plt.savefig(\"../Erica/StackedRatings500.png\")"
   ]
  },
  {
   "cell_type": "code",
   "execution_count": null,
   "metadata": {},
   "outputs": [],
   "source": []
  }
 ],
 "metadata": {
  "kernelspec": {
   "display_name": "Python 3",
   "language": "python",
   "name": "python3"
  },
  "language_info": {
   "codemirror_mode": {
    "name": "ipython",
    "version": 3
   },
   "file_extension": ".py",
   "mimetype": "text/x-python",
   "name": "python",
   "nbconvert_exporter": "python",
   "pygments_lexer": "ipython3",
   "version": "3.7.6"
  }
 },
 "nbformat": 4,
 "nbformat_minor": 4
}

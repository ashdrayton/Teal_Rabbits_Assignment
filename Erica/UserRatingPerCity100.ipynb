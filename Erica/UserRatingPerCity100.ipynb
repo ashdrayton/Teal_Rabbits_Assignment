{
 "cells": [
  {
   "cell_type": "markdown",
   "metadata": {},
   "source": [
    "# Spread of Top 100 restaurants by city\n",
    "\n",
    "## Objective\n",
    "This program was written to create a bar plot of the Top 100 restaurants in Australia, to see how many of these restaurants are in each city.\n",
    "\n",
    "### Comments:\n",
    "This program reads in a CSV of cleansed data of the top 100 restaurants from the 5 largest cities in Australia."
   ]
  },
  {
   "cell_type": "code",
   "execution_count": 1,
   "metadata": {},
   "outputs": [],
   "source": [
    "#Import required modules and styles\n",
    "import pandas as pd\n",
    "import matplotlib.pyplot as plt\n",
    "import numpy as np\n",
    "import seaborn as sns\n",
    "sns.set_style(\"darkgrid\")"
   ]
  },
  {
   "cell_type": "code",
   "execution_count": 2,
   "metadata": {},
   "outputs": [
    {
     "data": {
      "text/html": [
       "<div>\n",
       "<style scoped>\n",
       "    .dataframe tbody tr th:only-of-type {\n",
       "        vertical-align: middle;\n",
       "    }\n",
       "\n",
       "    .dataframe tbody tr th {\n",
       "        vertical-align: top;\n",
       "    }\n",
       "\n",
       "    .dataframe thead th {\n",
       "        text-align: right;\n",
       "    }\n",
       "</style>\n",
       "<table border=\"1\" class=\"dataframe\">\n",
       "  <thead>\n",
       "    <tr style=\"text-align: right;\">\n",
       "      <th></th>\n",
       "      <th>Restaurant_id</th>\n",
       "      <th>Name</th>\n",
       "      <th>Locality</th>\n",
       "      <th>Address</th>\n",
       "      <th>City</th>\n",
       "      <th>Latitude</th>\n",
       "      <th>Longitude</th>\n",
       "      <th>Price Range</th>\n",
       "      <th>Average Cost for two</th>\n",
       "      <th>User Rating</th>\n",
       "      <th>Rating Text</th>\n",
       "      <th>Votes</th>\n",
       "      <th>all_reviews_count</th>\n",
       "      <th>Cuisines</th>\n",
       "    </tr>\n",
       "  </thead>\n",
       "  <tbody>\n",
       "    <tr>\n",
       "      <th>0</th>\n",
       "      <td>16587626</td>\n",
       "      <td>Mandoo</td>\n",
       "      <td>Bank Street, City Centre</td>\n",
       "      <td>3/26 Bank Street, Adelaide, SA</td>\n",
       "      <td>Adelaide</td>\n",
       "      <td>-34.922518</td>\n",
       "      <td>138.597492</td>\n",
       "      <td>2</td>\n",
       "      <td>45</td>\n",
       "      <td>4.8</td>\n",
       "      <td>Excellent</td>\n",
       "      <td>764</td>\n",
       "      <td>290</td>\n",
       "      <td>Korean, Dumplings</td>\n",
       "    </tr>\n",
       "    <tr>\n",
       "      <th>1</th>\n",
       "      <td>16589254</td>\n",
       "      <td>127 Days</td>\n",
       "      <td>Croydon Park</td>\n",
       "      <td>127 Days Road, Croydon Park, Adelaide</td>\n",
       "      <td>Adelaide</td>\n",
       "      <td>-34.875846</td>\n",
       "      <td>138.566375</td>\n",
       "      <td>2</td>\n",
       "      <td>50</td>\n",
       "      <td>4.7</td>\n",
       "      <td>Excellent</td>\n",
       "      <td>267</td>\n",
       "      <td>123</td>\n",
       "      <td>American, Burger, Sandwich</td>\n",
       "    </tr>\n",
       "    <tr>\n",
       "      <th>2</th>\n",
       "      <td>16587409</td>\n",
       "      <td>Indian Temptations</td>\n",
       "      <td>Main North Road, Enfield</td>\n",
       "      <td>490 Main North Road, Blair Athol</td>\n",
       "      <td>Adelaide</td>\n",
       "      <td>-34.852631</td>\n",
       "      <td>138.600433</td>\n",
       "      <td>2</td>\n",
       "      <td>50</td>\n",
       "      <td>4.8</td>\n",
       "      <td>Excellent</td>\n",
       "      <td>403</td>\n",
       "      <td>156</td>\n",
       "      <td>Indian</td>\n",
       "    </tr>\n",
       "  </tbody>\n",
       "</table>\n",
       "</div>"
      ],
      "text/plain": [
       "   Restaurant_id                Name                  Locality  \\\n",
       "0       16587626              Mandoo  Bank Street, City Centre   \n",
       "1       16589254            127 Days              Croydon Park   \n",
       "2       16587409  Indian Temptations  Main North Road, Enfield   \n",
       "\n",
       "                                 Address      City   Latitude   Longitude  \\\n",
       "0         3/26 Bank Street, Adelaide, SA  Adelaide -34.922518  138.597492   \n",
       "1  127 Days Road, Croydon Park, Adelaide  Adelaide -34.875846  138.566375   \n",
       "2       490 Main North Road, Blair Athol  Adelaide -34.852631  138.600433   \n",
       "\n",
       "   Price Range  Average Cost for two  User Rating Rating Text  Votes  \\\n",
       "0            2                    45          4.8   Excellent    764   \n",
       "1            2                    50          4.7   Excellent    267   \n",
       "2            2                    50          4.8   Excellent    403   \n",
       "\n",
       "   all_reviews_count                    Cuisines  \n",
       "0                290           Korean, Dumplings  \n",
       "1                123  American, Burger, Sandwich  \n",
       "2                156                      Indian  "
      ]
     },
     "execution_count": 2,
     "metadata": {},
     "output_type": "execute_result"
    }
   ],
   "source": [
    "#Read in required data and drop first column\n",
    "df = pd.read_csv(\"../Project1_exploration/output_data/Top_100.csv\")\n",
    "restaurants = df.drop('Unnamed: 0', axis=1)\n",
    "restaurants.head(3)"
   ]
  },
  {
   "cell_type": "markdown",
   "metadata": {},
   "source": [
    "### Comments:\n",
    "Group the cities and then count number of restaurants in each city"
   ]
  },
  {
   "cell_type": "code",
   "execution_count": 3,
   "metadata": {},
   "outputs": [
    {
     "data": {
      "text/html": [
       "<div>\n",
       "<style scoped>\n",
       "    .dataframe tbody tr th:only-of-type {\n",
       "        vertical-align: middle;\n",
       "    }\n",
       "\n",
       "    .dataframe tbody tr th {\n",
       "        vertical-align: top;\n",
       "    }\n",
       "\n",
       "    .dataframe thead th {\n",
       "        text-align: right;\n",
       "    }\n",
       "</style>\n",
       "<table border=\"1\" class=\"dataframe\">\n",
       "  <thead>\n",
       "    <tr style=\"text-align: right;\">\n",
       "      <th></th>\n",
       "      <th>User Rating</th>\n",
       "    </tr>\n",
       "    <tr>\n",
       "      <th>City</th>\n",
       "      <th></th>\n",
       "    </tr>\n",
       "  </thead>\n",
       "  <tbody>\n",
       "    <tr>\n",
       "      <th>Adelaide</th>\n",
       "      <td>4.77</td>\n",
       "    </tr>\n",
       "    <tr>\n",
       "      <th>Brisbane</th>\n",
       "      <td>4.76</td>\n",
       "    </tr>\n",
       "    <tr>\n",
       "      <th>Melbourne</th>\n",
       "      <td>4.75</td>\n",
       "    </tr>\n",
       "    <tr>\n",
       "      <th>Perth</th>\n",
       "      <td>4.77</td>\n",
       "    </tr>\n",
       "    <tr>\n",
       "      <th>Sydney</th>\n",
       "      <td>4.78</td>\n",
       "    </tr>\n",
       "  </tbody>\n",
       "</table>\n",
       "</div>"
      ],
      "text/plain": [
       "           User Rating\n",
       "City                  \n",
       "Adelaide          4.77\n",
       "Brisbane          4.76\n",
       "Melbourne         4.75\n",
       "Perth             4.77\n",
       "Sydney            4.78"
      ]
     },
     "execution_count": 3,
     "metadata": {},
     "output_type": "execute_result"
    }
   ],
   "source": [
    "group_city = restaurants.groupby(\"City\")\n",
    "ave_user_rating = pd.DataFrame(group_city[\"User Rating\"].mean())\n",
    "ave_user_rating = ave_user_rating.round(decimals=2)\n",
    "ave_user_rating"
   ]
  },
  {
   "cell_type": "markdown",
   "metadata": {},
   "source": [
    "### Comments:\n",
    "Create a bar graph of average user ratings across the 5 cities"
   ]
  },
  {
   "cell_type": "code",
   "execution_count": 4,
   "metadata": {},
   "outputs": [
    {
     "data": {
      "image/png": "[encoded data removed]",
      "text/plain": [
       "<Figure size 540x360 with 1 Axes>"
      ]
     },
     "metadata": {},
     "output_type": "display_data"
    }
   ],
   "source": [
    "#Define the variables\n",
    "x1 = [0,1,2,3,4]\n",
    "y1 = [4.77,4.76,4.75,4.77,4.78]\n",
    "colours = ['teal', 'maroon', 'darkorchid', 'gold', 'royalblue']\n",
    "\n",
    "plt.bar(x1, y1, edgecolor='black', color=colours)\n",
    "\n",
    "#Adjust size of graph\n",
    "fig = plt.gcf()\n",
    "fig.set_size_inches(7.5, 5)\n",
    "\n",
    "#Set font sizes\n",
    "small = 12\n",
    "medium = 16\n",
    "large = 24\n",
    "\n",
    "plt.rc('font', size=medium)     \n",
    "plt.rc('axes', titlesize=large)     \n",
    "plt.rc('xtick', labelsize=small)   \n",
    "plt.rc('ytick', labelsize=small)   \n",
    "plt.rc('figure', titlesize=large)\n",
    "\n",
    "#Add title, axis labels and gridlines\n",
    "plt.title('Average User Rating in Each City')\n",
    "plt.xlabel('Cities')\n",
    "plt.ylabel('Average User Rating')\n",
    "plt.xticks(np.arange(5), ('Adelaide', 'Brisbane', 'Melbourne', 'Perth', 'Sydney'))\n",
    "plt.xlim(-0.5,len(ave_user_rating)-0.5)\n",
    "plt.ylim(4.6,4.85)\n",
    "\n",
    "#Save plot\n",
    "plt.savefig(\"../Erica/AvUserRating100.png\")"
   ]
  },
  {
   "cell_type": "code",
   "execution_count": 5,
   "metadata": {},
   "outputs": [
    {
     "data": {
      "text/html": [
       "<div>\n",
       "<style scoped>\n",
       "    .dataframe tbody tr th:only-of-type {\n",
       "        vertical-align: middle;\n",
       "    }\n",
       "\n",
       "    .dataframe tbody tr th {\n",
       "        vertical-align: top;\n",
       "    }\n",
       "\n",
       "    .dataframe thead th {\n",
       "        text-align: right;\n",
       "    }\n",
       "</style>\n",
       "<table border=\"1\" class=\"dataframe\">\n",
       "  <thead>\n",
       "    <tr style=\"text-align: right;\">\n",
       "      <th></th>\n",
       "      <th>User Rating</th>\n",
       "    </tr>\n",
       "    <tr>\n",
       "      <th>City</th>\n",
       "      <th></th>\n",
       "    </tr>\n",
       "  </thead>\n",
       "  <tbody>\n",
       "    <tr>\n",
       "      <th>Adelaide</th>\n",
       "      <td>4.75</td>\n",
       "    </tr>\n",
       "    <tr>\n",
       "      <th>Brisbane</th>\n",
       "      <td>4.70</td>\n",
       "    </tr>\n",
       "    <tr>\n",
       "      <th>Melbourne</th>\n",
       "      <td>4.70</td>\n",
       "    </tr>\n",
       "    <tr>\n",
       "      <th>Perth</th>\n",
       "      <td>4.75</td>\n",
       "    </tr>\n",
       "    <tr>\n",
       "      <th>Sydney</th>\n",
       "      <td>4.80</td>\n",
       "    </tr>\n",
       "  </tbody>\n",
       "</table>\n",
       "</div>"
      ],
      "text/plain": [
       "           User Rating\n",
       "City                  \n",
       "Adelaide          4.75\n",
       "Brisbane          4.70\n",
       "Melbourne         4.70\n",
       "Perth             4.75\n",
       "Sydney            4.80"
      ]
     },
     "execution_count": 5,
     "metadata": {},
     "output_type": "execute_result"
    }
   ],
   "source": [
    "group_city = restaurants.groupby(\"City\")\n",
    "median_user_rating = pd.DataFrame(group_city[\"User Rating\"].median())\n",
    "median_user_ratingg = median_user_rating.round(decimals=2)\n",
    "median_user_rating"
   ]
  },
  {
   "cell_type": "code",
   "execution_count": 22,
   "metadata": {},
   "outputs": [
    {
     "data": {
      "image/png": "[encoded data removed]",
      "text/plain": [
       "<Figure size 540x360 with 1 Axes>"
      ]
     },
     "metadata": {},
     "output_type": "display_data"
    }
   ],
   "source": [
    "#Define the variables\n",
    "x1 = [0,1,2,3,4]\n",
    "y1 = [4.75,4.70,4.70,4.75,4.80]\n",
    "colours = ['teal', 'maroon', 'darkorchid', 'gold', 'royalblue']\n",
    "\n",
    "plt.bar(x1, y1, edgecolor='black', color=colours)\n",
    "\n",
    "#Adjust size of graph\n",
    "fig = plt.gcf()\n",
    "fig.set_size_inches(7.5, 5)\n",
    "\n",
    "#Set font sizes\n",
    "small = 12\n",
    "medium = 16\n",
    "large = 24\n",
    "\n",
    "plt.rc('font', size=medium)     \n",
    "plt.rc('axes', titlesize=large)     \n",
    "plt.rc('xtick', labelsize=small)   \n",
    "plt.rc('ytick', labelsize=small)   \n",
    "plt.rc('figure', titlesize=large)\n",
    "\n",
    "#Add title, axis labels and gridlines\n",
    "plt.title('Median User Rating in Each City')\n",
    "plt.xlabel('Cities')\n",
    "plt.ylabel('Median User Rating')\n",
    "plt.xticks(np.arange(5), ('Adelaide', 'Brisbane', 'Melbourne', 'Perth', 'Sydney'))\n",
    "plt.xlim(-0.5,len(median_user_rating)-0.5)\n",
    "plt.ylim(4.6,4.85)\n",
    "\n",
    "#Save plot\n",
    "plt.savefig(\"../Erica/MedianUserRating.png\")"
   ]
  },
  {
   "cell_type": "code",
   "execution_count": 10,
   "metadata": {},
   "outputs": [
    {
     "data": {
      "text/html": [
       "<div>\n",
       "<style scoped>\n",
       "    .dataframe tbody tr th:only-of-type {\n",
       "        vertical-align: middle;\n",
       "    }\n",
       "\n",
       "    .dataframe tbody tr th {\n",
       "        vertical-align: top;\n",
       "    }\n",
       "\n",
       "    .dataframe thead th {\n",
       "        text-align: right;\n",
       "    }\n",
       "</style>\n",
       "<table border=\"1\" class=\"dataframe\">\n",
       "  <thead>\n",
       "    <tr style=\"text-align: right;\">\n",
       "      <th></th>\n",
       "      <th>Average Cost for two</th>\n",
       "    </tr>\n",
       "    <tr>\n",
       "      <th>City</th>\n",
       "      <th></th>\n",
       "    </tr>\n",
       "  </thead>\n",
       "  <tbody>\n",
       "    <tr>\n",
       "      <th>Adelaide</th>\n",
       "      <td>108.12</td>\n",
       "    </tr>\n",
       "    <tr>\n",
       "      <th>Brisbane</th>\n",
       "      <td>94.00</td>\n",
       "    </tr>\n",
       "    <tr>\n",
       "      <th>Melbourne</th>\n",
       "      <td>140.91</td>\n",
       "    </tr>\n",
       "    <tr>\n",
       "      <th>Perth</th>\n",
       "      <td>122.50</td>\n",
       "    </tr>\n",
       "    <tr>\n",
       "      <th>Sydney</th>\n",
       "      <td>129.42</td>\n",
       "    </tr>\n",
       "  </tbody>\n",
       "</table>\n",
       "</div>"
      ],
      "text/plain": [
       "           Average Cost for two\n",
       "City                           \n",
       "Adelaide                 108.12\n",
       "Brisbane                  94.00\n",
       "Melbourne                140.91\n",
       "Perth                    122.50\n",
       "Sydney                   129.42"
      ]
     },
     "execution_count": 10,
     "metadata": {},
     "output_type": "execute_result"
    }
   ],
   "source": [
    "group_city = restaurants.groupby(\"City\")\n",
    "ave_cost = pd.DataFrame(group_city[\"Average Cost for two\"].mean())\n",
    "ave_cost = ave_cost.round(decimals=2)\n",
    "ave_cost"
   ]
  },
  {
   "cell_type": "code",
   "execution_count": 26,
   "metadata": {},
   "outputs": [
    {
     "data": {
      "image/png": "[encoded data removed]",
      "text/plain": [
       "<Figure size 540x540 with 1 Axes>"
      ]
     },
     "metadata": {},
     "output_type": "display_data"
    }
   ],
   "source": [
    "#Define the variables\n",
    "x1 = [0,1,2,3,4]\n",
    "y1 = [108.12,94.00,140.91,122.50,129.42]\n",
    "colours = ['teal', 'maroon', 'darkorchid', 'gold', 'royalblue']\n",
    "\n",
    "plt.bar(x1, y1, edgecolor='black', color=colours)\n",
    "\n",
    "#Adjust size of graph\n",
    "fig = plt.gcf()\n",
    "fig.set_size_inches(7.5, 7.5)\n",
    "\n",
    "#Set font sizes\n",
    "small = 12\n",
    "medium = 16\n",
    "large = 24\n",
    "\n",
    "plt.rc('font', size=medium)     \n",
    "plt.rc('axes', titlesize=medium)     \n",
    "plt.rc('xtick', labelsize=small)   \n",
    "plt.rc('ytick', labelsize=small)   \n",
    "plt.rc('figure', titlesize=medium)\n",
    "\n",
    "#Add title, axis labels and gridlines\n",
    "plt.title('Average Cost for Two People in Each City')\n",
    "plt.xlabel('Cities')\n",
    "plt.ylabel('Average Cost')\n",
    "plt.xticks(np.arange(5), ('Adelaide', 'Brisbane', 'Melbourne', 'Perth', 'Sydney'))\n",
    "plt.xlim(-0.5,len(ave_user_rating)-0.5)\n",
    "plt.ylim(0,150)\n",
    "\n",
    "#Save plot\n",
    "plt.savefig(\"../Erica/AvCost100.png\")"
   ]
  },
  {
   "cell_type": "code",
   "execution_count": 12,
   "metadata": {},
   "outputs": [
    {
     "data": {
      "text/html": [
       "<div>\n",
       "<style scoped>\n",
       "    .dataframe tbody tr th:only-of-type {\n",
       "        vertical-align: middle;\n",
       "    }\n",
       "\n",
       "    .dataframe tbody tr th {\n",
       "        vertical-align: top;\n",
       "    }\n",
       "\n",
       "    .dataframe thead th {\n",
       "        text-align: right;\n",
       "    }\n",
       "</style>\n",
       "<table border=\"1\" class=\"dataframe\">\n",
       "  <thead>\n",
       "    <tr style=\"text-align: right;\">\n",
       "      <th></th>\n",
       "      <th>Average Cost for two</th>\n",
       "    </tr>\n",
       "    <tr>\n",
       "      <th>City</th>\n",
       "      <th></th>\n",
       "    </tr>\n",
       "  </thead>\n",
       "  <tbody>\n",
       "    <tr>\n",
       "      <th>Adelaide</th>\n",
       "      <td>80</td>\n",
       "    </tr>\n",
       "    <tr>\n",
       "      <th>Brisbane</th>\n",
       "      <td>70</td>\n",
       "    </tr>\n",
       "    <tr>\n",
       "      <th>Melbourne</th>\n",
       "      <td>105</td>\n",
       "    </tr>\n",
       "    <tr>\n",
       "      <th>Perth</th>\n",
       "      <td>75</td>\n",
       "    </tr>\n",
       "    <tr>\n",
       "      <th>Sydney</th>\n",
       "      <td>90</td>\n",
       "    </tr>\n",
       "  </tbody>\n",
       "</table>\n",
       "</div>"
      ],
      "text/plain": [
       "           Average Cost for two\n",
       "City                           \n",
       "Adelaide                     80\n",
       "Brisbane                     70\n",
       "Melbourne                   105\n",
       "Perth                        75\n",
       "Sydney                       90"
      ]
     },
     "execution_count": 12,
     "metadata": {},
     "output_type": "execute_result"
    }
   ],
   "source": [
    "group_city = restaurants.groupby(\"City\")\n",
    "median_cost = pd.DataFrame(group_city[\"Average Cost for two\"].median())\n",
    "median_cost = median_cost.round(decimals=2)\n",
    "median_cost"
   ]
  },
  {
   "cell_type": "code",
   "execution_count": 27,
   "metadata": {},
   "outputs": [
    {
     "data": {
      "image/png": "[encoded data removed]",
      "text/plain": [
       "<Figure size 540x540 with 1 Axes>"
      ]
     },
     "metadata": {},
     "output_type": "display_data"
    }
   ],
   "source": [
    "#Define the variables\n",
    "x1 = [0,1,2,3,4]\n",
    "y1 = [80,70,105,75,90]\n",
    "colours = ['teal', 'maroon', 'darkorchid', 'gold', 'royalblue']\n",
    "\n",
    "plt.bar(x1, y1, edgecolor='black', color=colours)\n",
    "\n",
    "#Adjust size of graph\n",
    "fig = plt.gcf()\n",
    "fig.set_size_inches(7.5, 7.5)\n",
    "\n",
    "#Set font sizes\n",
    "small = 12\n",
    "medium = 16\n",
    "large = 24\n",
    "\n",
    "plt.rc('font', size=medium)     \n",
    "plt.rc('axes', titlesize=medium)     \n",
    "plt.rc('xtick', labelsize=small)   \n",
    "plt.rc('ytick', labelsize=small)   \n",
    "plt.rc('figure', titlesize=medium)\n",
    "\n",
    "#Add title, axis labels and gridlines\n",
    "plt.title('Median Cost in Each City')\n",
    "plt.xlabel('Cities')\n",
    "plt.ylabel('Median Cost')\n",
    "plt.xticks(np.arange(5), ('Adelaide', 'Brisbane', 'Melbourne', 'Perth', 'Sydney'))\n",
    "plt.xlim(-0.5,len(median_user_rating)-0.5)\n",
    "plt.ylim(0,150)\n",
    "\n",
    "#Save plot\n",
    "plt.savefig(\"../Erica/MedianCost100.png\")"
   ]
  },
  {
   "cell_type": "code",
   "execution_count": 36,
   "metadata": {},
   "outputs": [
    {
     "name": "stderr",
     "output_type": "stream",
     "text": [
      "C:\\Users\\erica\\anaconda3\\envs\\pythondata\\lib\\site-packages\\numpy\\core\\_asarray.py:83: VisibleDeprecationWarning: Creating an ndarray from ragged nested sequences (which is a list-or-tuple of lists-or-tuples-or ndarrays with different lengths or shapes) is deprecated. If you meant to do this, you must specify 'dtype=object' when creating the ndarray\n",
      "  return array(a, dtype, copy=False, order=order)\n"
     ]
    },
    {
     "data": {
      "image/png": "[encoded data removed]",
      "text/plain": [
       "<Figure size 432x288 with 1 Axes>"
      ]
     },
     "metadata": {},
     "output_type": "display_data"
    }
   ],
   "source": [
    "# Generate a box plot of the average cost for two across the five cities\n",
    "Avg_Melbourne = restaurants.loc[restaurants[\"City\"]==\"Melbourne\",\"Average Cost for two\"]\n",
    "Avg_Sydney = restaurants.loc[restaurants[\"City\"]==\"Sydney\",\"Average Cost for two\"]\n",
    "Avg_Adelaide = restaurants.loc[restaurants[\"City\"]==\"Adelaide\",\"Average Cost for two\"]\n",
    "Avg_Brisbane = restaurants.loc[restaurants[\"City\"]==\"Brisbane\",\"Average Cost for two\"]\n",
    "Avg_Perth = restaurants.loc[restaurants[\"City\"]==\"Perth\",\"Average Cost for two\"]\n",
    "\n",
    "all_cities_data = [Avg_Melbourne,Avg_Sydney, Avg_Adelaide,Avg_Brisbane,Avg_Perth]\n",
    "all_cities = [\"Melbourne\", \"Sydney\", \"Adelaide\", \"Brisbane\", \"Perth\"]\n",
    "red_square = dict(markerfacecolor='r', marker='s')\n",
    "\n",
    "fig1, ax1 = plt.subplots()\n",
    "ax1.set_title('Average Cost for two per city')\n",
    "ax1.set_xticklabels(all_cities, rotation=0, fontsize=10)\n",
    "ax1.set_ylabel('Average Cost for two')\n",
    "ax1.boxplot(all_cities_data, flierprops=red_square)\n",
    "\n",
    "# Save the figure\n",
    "plt.savefig(\"../Erica/Box100.png\")"
   ]
  },
  {
   "cell_type": "code",
   "execution_count": null,
   "metadata": {},
   "outputs": [],
   "source": [
    "fig1, ax1 = plt.subplots()\n",
    "ax1.set_title('Average Cost for two per city')\n",
    "ax1.set_xticklabels(all_cities, rotation=0, fontsize=10)\n",
    "ax1.set_ylabel('Average Cost for two')\n",
    "ax1.boxplot(all_cities_data, flierprops=red_square)\n",
    "\n",
    "#Save image \n",
    "plt.savefig(\"../Erica/Box100.png\")"
   ]
  }
 ],
 "metadata": {
  "kernelspec": {
   "display_name": "Python 3",
   "language": "python",
   "name": "python3"
  },
  "language_info": {
   "codemirror_mode": {
    "name": "ipython",
    "version": 3
   },
   "file_extension": ".py",
   "mimetype": "text/x-python",
   "name": "python",
   "nbconvert_exporter": "python",
   "pygments_lexer": "ipython3",
   "version": "3.8.3"
  }
 },
 "nbformat": 4,
 "nbformat_minor": 4
}

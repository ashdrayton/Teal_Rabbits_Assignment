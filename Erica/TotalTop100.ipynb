{
 "cells": [
  {
   "cell_type": "markdown",
   "metadata": {},
   "source": [
    "# Spread of Top 100 restaurants by city\n",
    "\n",
    "## Objective\n",
    "This program was written to create a bar plot of the Top 100 restaurants in Australia, to see how many of these restaurants are in each city.\n",
    "\n",
    "### Comments:\n",
    "This program reads in a CSV of cleansed data of the top 100 restaurants from the 5 largest cities in Australia."
   ]
  },
  {
   "cell_type": "code",
   "execution_count": 1,
   "metadata": {},
   "outputs": [],
   "source": [
    "#Import required modules and styles\n",
    "import pandas as pd\n",
    "import matplotlib.pyplot as plt\n",
    "import numpy as np\n",
    "import seaborn as sns\n",
    "sns.set_style(\"darkgrid\")"
   ]
  },
  {
   "cell_type": "code",
   "execution_count": 2,
   "metadata": {},
   "outputs": [
    {
     "data": {
      "text/html": [
       "<div>\n",
       "<style scoped>\n",
       "    .dataframe tbody tr th:only-of-type {\n",
       "        vertical-align: middle;\n",
       "    }\n",
       "\n",
       "    .dataframe tbody tr th {\n",
       "        vertical-align: top;\n",
       "    }\n",
       "\n",
       "    .dataframe thead th {\n",
       "        text-align: right;\n",
       "    }\n",
       "</style>\n",
       "<table border=\"1\" class=\"dataframe\">\n",
       "  <thead>\n",
       "    <tr style=\"text-align: right;\">\n",
       "      <th></th>\n",
       "      <th>Restaurant_id</th>\n",
       "      <th>Name</th>\n",
       "      <th>Locality</th>\n",
       "      <th>Address</th>\n",
       "      <th>City</th>\n",
       "      <th>Latitude</th>\n",
       "      <th>Longitude</th>\n",
       "      <th>Price Range</th>\n",
       "      <th>Average Cost for two</th>\n",
       "      <th>User Rating</th>\n",
       "      <th>Rating Text</th>\n",
       "      <th>Votes</th>\n",
       "      <th>all_reviews_count</th>\n",
       "      <th>Cuisines</th>\n",
       "    </tr>\n",
       "  </thead>\n",
       "  <tbody>\n",
       "    <tr>\n",
       "      <th>0</th>\n",
       "      <td>16587626</td>\n",
       "      <td>Mandoo</td>\n",
       "      <td>Bank Street, City Centre</td>\n",
       "      <td>3/26 Bank Street, Adelaide, SA</td>\n",
       "      <td>Adelaide</td>\n",
       "      <td>-34.922518</td>\n",
       "      <td>138.597492</td>\n",
       "      <td>2</td>\n",
       "      <td>45</td>\n",
       "      <td>4.8</td>\n",
       "      <td>Excellent</td>\n",
       "      <td>764</td>\n",
       "      <td>290</td>\n",
       "      <td>Korean, Dumplings</td>\n",
       "    </tr>\n",
       "    <tr>\n",
       "      <th>1</th>\n",
       "      <td>16589254</td>\n",
       "      <td>127 Days</td>\n",
       "      <td>Croydon Park</td>\n",
       "      <td>127 Days Road, Croydon Park, Adelaide</td>\n",
       "      <td>Adelaide</td>\n",
       "      <td>-34.875846</td>\n",
       "      <td>138.566375</td>\n",
       "      <td>2</td>\n",
       "      <td>50</td>\n",
       "      <td>4.7</td>\n",
       "      <td>Excellent</td>\n",
       "      <td>267</td>\n",
       "      <td>123</td>\n",
       "      <td>American, Burger, Sandwich</td>\n",
       "    </tr>\n",
       "    <tr>\n",
       "      <th>2</th>\n",
       "      <td>16587409</td>\n",
       "      <td>Indian Temptations</td>\n",
       "      <td>Main North Road, Enfield</td>\n",
       "      <td>490 Main North Road, Blair Athol</td>\n",
       "      <td>Adelaide</td>\n",
       "      <td>-34.852631</td>\n",
       "      <td>138.600433</td>\n",
       "      <td>2</td>\n",
       "      <td>50</td>\n",
       "      <td>4.8</td>\n",
       "      <td>Excellent</td>\n",
       "      <td>403</td>\n",
       "      <td>156</td>\n",
       "      <td>Indian</td>\n",
       "    </tr>\n",
       "  </tbody>\n",
       "</table>\n",
       "</div>"
      ],
      "text/plain": [
       "   Restaurant_id                Name                  Locality  \\\n",
       "0       16587626              Mandoo  Bank Street, City Centre   \n",
       "1       16589254            127 Days              Croydon Park   \n",
       "2       16587409  Indian Temptations  Main North Road, Enfield   \n",
       "\n",
       "                                 Address      City   Latitude   Longitude  \\\n",
       "0         3/26 Bank Street, Adelaide, SA  Adelaide -34.922518  138.597492   \n",
       "1  127 Days Road, Croydon Park, Adelaide  Adelaide -34.875846  138.566375   \n",
       "2       490 Main North Road, Blair Athol  Adelaide -34.852631  138.600433   \n",
       "\n",
       "   Price Range  Average Cost for two  User Rating Rating Text  Votes  \\\n",
       "0            2                    45          4.8   Excellent    764   \n",
       "1            2                    50          4.7   Excellent    267   \n",
       "2            2                    50          4.8   Excellent    403   \n",
       "\n",
       "   all_reviews_count                    Cuisines  \n",
       "0                290           Korean, Dumplings  \n",
       "1                123  American, Burger, Sandwich  \n",
       "2                156                      Indian  "
      ]
     },
     "execution_count": 2,
     "metadata": {},
     "output_type": "execute_result"
    }
   ],
   "source": [
    "#Read in required data and drop first column\n",
    "df = pd.read_csv(\"../Project1_exploration/output_data/Top_100.csv\")\n",
    "restaurants = df.drop('Unnamed: 0', axis=1)\n",
    "restaurants.head(3)"
   ]
  },
  {
   "cell_type": "markdown",
   "metadata": {},
   "source": [
    "### Comments:\n",
    "Group the cities and then count number of restaurants in each city"
   ]
  },
  {
   "cell_type": "code",
   "execution_count": 3,
   "metadata": {},
   "outputs": [
    {
     "data": {
      "text/html": [
       "<div>\n",
       "<style scoped>\n",
       "    .dataframe tbody tr th:only-of-type {\n",
       "        vertical-align: middle;\n",
       "    }\n",
       "\n",
       "    .dataframe tbody tr th {\n",
       "        vertical-align: top;\n",
       "    }\n",
       "\n",
       "    .dataframe thead th {\n",
       "        text-align: right;\n",
       "    }\n",
       "</style>\n",
       "<table border=\"1\" class=\"dataframe\">\n",
       "  <thead>\n",
       "    <tr style=\"text-align: right;\">\n",
       "      <th></th>\n",
       "      <th>Restaurant_id</th>\n",
       "    </tr>\n",
       "    <tr>\n",
       "      <th>City</th>\n",
       "      <th></th>\n",
       "    </tr>\n",
       "  </thead>\n",
       "  <tbody>\n",
       "    <tr>\n",
       "      <th>Adelaide</th>\n",
       "      <td>8</td>\n",
       "    </tr>\n",
       "    <tr>\n",
       "      <th>Brisbane</th>\n",
       "      <td>10</td>\n",
       "    </tr>\n",
       "    <tr>\n",
       "      <th>Melbourne</th>\n",
       "      <td>44</td>\n",
       "    </tr>\n",
       "    <tr>\n",
       "      <th>Perth</th>\n",
       "      <td>12</td>\n",
       "    </tr>\n",
       "    <tr>\n",
       "      <th>Sydney</th>\n",
       "      <td>26</td>\n",
       "    </tr>\n",
       "  </tbody>\n",
       "</table>\n",
       "</div>"
      ],
      "text/plain": [
       "           Restaurant_id\n",
       "City                    \n",
       "Adelaide               8\n",
       "Brisbane              10\n",
       "Melbourne             44\n",
       "Perth                 12\n",
       "Sydney                26"
      ]
     },
     "execution_count": 3,
     "metadata": {},
     "output_type": "execute_result"
    }
   ],
   "source": [
    "group_city = restaurants.groupby(\"City\")\n",
    "city_df = pd.DataFrame(group_city[\"Restaurant_id\"].count())\n",
    "city_df"
   ]
  },
  {
   "cell_type": "markdown",
   "metadata": {},
   "source": [
    "### Comments:\n",
    "Create a bar graph of the distribution of the Top 100 restaurants across the 5 cities"
   ]
  },
  {
   "cell_type": "code",
   "execution_count": 4,
   "metadata": {},
   "outputs": [
    {
     "data": {
      "image/png": "[encoded data removed]",
      "text/plain": [
       "<Figure size 720x576 with 1 Axes>"
      ]
     },
     "metadata": {},
     "output_type": "display_data"
    }
   ],
   "source": [
    "#Define the variables\n",
    "x1 = [0,1,2,3,4]\n",
    "y1 = [8,10,44,12,26]\n",
    "colours = ['teal', 'maroon', 'darkorchid', 'gold', 'royalblue']\n",
    "\n",
    "plt.bar(x1, y1, edgecolor='black', color=colours)\n",
    "\n",
    "#Adjust size of graph\n",
    "fig = plt.gcf()\n",
    "fig.set_size_inches(10, 8)\n",
    "\n",
    "#Set font sizes\n",
    "small = 12\n",
    "medium = 16\n",
    "large = 24\n",
    "\n",
    "plt.rc('font', size=medium)     \n",
    "plt.rc('axes', titlesize=medium)     \n",
    "plt.rc('xtick', labelsize=medium)   \n",
    "plt.rc('ytick', labelsize=small)   \n",
    "plt.rc('figure', titlesize=large)\n",
    "\n",
    "#Add title, axis labels and gridlines\n",
    "plt.title('Distribution of the Top 100 Restaurants')\n",
    "plt.xlabel('Cities')\n",
    "plt.ylabel('Number of Restaurants')\n",
    "plt.xticks(np.arange(5), ('Adelaide', 'Brisbane', 'Melbourne', 'Perth', 'Sydney'))\n",
    "plt.xlim(-0.5,len(city_df)-0.5)\n",
    "plt.ylim(0,50)\n",
    "\n",
    "#Save plot\n",
    "plt.savefig(\"DistributionTop100.png\")"
   ]
  },
  {
   "cell_type": "code",
   "execution_count": null,
   "metadata": {},
   "outputs": [],
   "source": []
  }
 ],
 "metadata": {
  "kernelspec": {
   "display_name": "Python 3",
   "language": "python",
   "name": "python3"
  },
  "language_info": {
   "codemirror_mode": {
    "name": "ipython",
    "version": 3
   },
   "file_extension": ".py",
   "mimetype": "text/x-python",
   "name": "python",
   "nbconvert_exporter": "python",
   "pygments_lexer": "ipython3",
   "version": "3.8.3"
  }
 },
 "nbformat": 4,
 "nbformat_minor": 4
}
